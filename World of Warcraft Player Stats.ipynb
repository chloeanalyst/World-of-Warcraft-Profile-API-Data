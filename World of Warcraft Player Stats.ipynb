{
 "cells": [
  {
   "cell_type": "markdown",
   "id": "adolescent-research",
   "metadata": {},
   "source": [
    "# World of Warcraft Player Stats\n",
    "\n",
    "Pulling player stats from the World of Warcraft API to help Guilds and Raiding parties to figure out team structuures.\n",
    "\n"
   ]
  },
  {
   "cell_type": "markdown",
   "id": "fossil-focus",
   "metadata": {},
   "source": [
    "### [1] Run required packages"
   ]
  },
  {
   "cell_type": "code",
   "execution_count": 4,
   "id": "amino-retail",
   "metadata": {},
   "outputs": [
    {
     "name": "stderr",
     "output_type": "stream",
     "text": [
      "Warning message:\n",
      "\"package 'httr' was built under R version 3.6.3\"Warning message:\n",
      "\"package 'dplyr' was built under R version 3.6.3\"\n",
      "Attaching package: 'dplyr'\n",
      "\n",
      "The following objects are masked from 'package:stats':\n",
      "\n",
      "    filter, lag\n",
      "\n",
      "The following objects are masked from 'package:base':\n",
      "\n",
      "    intersect, setdiff, setequal, union\n",
      "\n",
      "Warning message:\n",
      "\"package 'tidyverse' was built under R version 3.6.3\"-- Attaching packages --------------------------------------- tidyverse 1.3.0 --\n",
      "v ggplot2 3.3.3     v purrr   0.3.4\n",
      "v tibble  3.1.0     v stringr 1.4.0\n",
      "v tidyr   1.1.3     v forcats 0.4.0\n",
      "v readr   1.3.1     \n",
      "Warning message:\n",
      "\"package 'ggplot2' was built under R version 3.6.3\"Warning message:\n",
      "\"package 'tibble' was built under R version 3.6.3\"Warning message:\n",
      "\"package 'tidyr' was built under R version 3.6.3\"Warning message:\n",
      "\"package 'purrr' was built under R version 3.6.3\"-- Conflicts ------------------------------------------ tidyverse_conflicts() --\n",
      "x dplyr::filter()  masks stats::filter()\n",
      "x purrr::flatten() masks jsonlite::flatten()\n",
      "x dplyr::lag()     masks stats::lag()\n"
     ]
    }
   ],
   "source": [
    "library(httr)\n",
    "library(jsonlite)\n",
    "library(dplyr)\n",
    "library(tidyverse)"
   ]
  },
  {
   "cell_type": "markdown",
   "id": "identical-yacht",
   "metadata": {},
   "source": [
    "### [1] Function to get player data"
   ]
  },
  {
   "cell_type": "code",
   "execution_count": 131,
   "id": "seeing-parking",
   "metadata": {},
   "outputs": [],
   "source": [
    "#function to get player data\n",
    "\n",
    "get.raider.stats <- function(Realm, Raider, access_token){\n",
    "\n",
    "    #GET data from API\n",
    "    profile_data = GET(paste0('https://eu.api.blizzard.com/profile/wow/character/',Realm,'/',Raider,'?namespace=profile-eu&locale=en_GB',access_token))\n",
    "    data = fromJSON(rawToChar(profile_data$content))\n",
    "    \n",
    "    PVP = GET(paste0(data$pvp_summary$href,access_token))\n",
    "    PVP_Stat = fromJSON(rawToChar(PVP$content))\n",
    "    \n",
    "    PVP_Last = GET(paste0(PVP_Stat$brackets$href[3],access_token))\n",
    "    PVP_Last_Data = fromJSON(rawToChar(PVP_Last$content))\n",
    "    \n",
    "    \n",
    "    #Collect required attributes\n",
    "    GuildName <- data$guild$name\n",
    "    Player <- data$name\n",
    "    Race <- data$race$name\n",
    "    CharacterClass <- data$character_class$name\n",
    "    ActiveSpec <- data$active_spec$name\n",
    "    ItemLevel <- data$average_item_level\n",
    "    RBG_Rating <- PVP_Last_Data$rating\n",
    "    RBG_Played <- PVP_Last_Data$season_match_statistics$played\n",
    "    RBG_Won <- PVP_Last_Data$season_match_statistics$won\n",
    "    RBG_Lost <- PVP_Last_Data$season_match_statistics$lost\n",
    "    \n",
    "    \n",
    "    Output <- data.frame(GuildName,\n",
    "                         Player,\n",
    "                         Race,\n",
    "                         CharacterClass,\n",
    "                         ActiveSpec,\n",
    "                         ItemLevel,\n",
    "                         RBG_Rating,\n",
    "                         RBG_Played,\n",
    "                         RBG_Won,\n",
    "                         RBG_Lost)\n",
    "    \n",
    "    return(Output)\n",
    "}"
   ]
  },
  {
   "cell_type": "markdown",
   "id": "advanced-study",
   "metadata": {},
   "source": [
    "### [2] User facing function to clean data and create table"
   ]
  },
  {
   "cell_type": "code",
   "execution_count": 180,
   "id": "spanish-pulse",
   "metadata": {},
   "outputs": [],
   "source": [
    "rbg.stats <- function(raiders, realm, token) {\n",
    "    \n",
    "results <- list()\n",
    "\n",
    "for (i in raiders){\n",
    "\n",
    "results[[i]] <- get.raider.stats(realm,i,token)\n",
    "    \n",
    "    }\n",
    "\n",
    "results <- do.call(rbind,results)\n",
    "\n",
    "results$WinRate <- round(results$RBG_Won/results$RBG_Played*100,2)\n",
    "results$Experience <- ifelse(results$RBG_Played > mean(results$RBG_Played),1,0)\n",
    "results$WinningPlayer <- ifelse(results$WinRate > mean(results$WinRate),1,0)\n",
    "results$HighRated <- ifelse(results$RBG_Rating > mean(results$RBG_Rating),1,0)\n",
    "results$HighItemLevel <- ifelse(ItemLevel > mean(ItemLevel),1,0)\n",
    "\n",
    "results$Score = rowSums(results[,c(12,13,14,15)])\n",
    "\n",
    "results <- results %>% select(c(1:11,16))\n",
    "\n",
    "return(results)\n",
    "    \n",
    "}"
   ]
  },
  {
   "cell_type": "markdown",
   "id": "stunning-consensus",
   "metadata": {},
   "source": [
    "### [3] User inputs"
   ]
  },
  {
   "cell_type": "code",
   "execution_count": 181,
   "id": "third-grammar",
   "metadata": {},
   "outputs": [
    {
     "data": {
      "text/html": [
       "<table>\n",
       "<thead><tr><th></th><th scope=col>GuildName</th><th scope=col>Player</th><th scope=col>Race</th><th scope=col>CharacterClass</th><th scope=col>ActiveSpec</th><th scope=col>ItemLevel</th><th scope=col>RBG_Rating</th><th scope=col>RBG_Played</th><th scope=col>RBG_Won</th><th scope=col>RBG_Lost</th><th scope=col>WinRate</th><th scope=col>Score</th></tr></thead>\n",
       "<tbody>\n",
       "\t<tr><th scope=row>peakyskengz</th><td>Guilty Casual      </td><td>Peakyskengz        </td><td>Orc                </td><td>Hunter             </td><td>Marksmanship       </td><td>225                </td><td>1618               </td><td> 79                </td><td>41                 </td><td>38                 </td><td>51.90              </td><td>1                  </td></tr>\n",
       "\t<tr><th scope=row>amphali</th><td>Synergize          </td><td>Amphali            </td><td>Blood Elf          </td><td>Mage               </td><td>Frost              </td><td>224                </td><td>1631               </td><td> 25                </td><td>14                 </td><td>11                 </td><td>56.00              </td><td>1                  </td></tr>\n",
       "\t<tr><th scope=row>pejn</th><td>Synergize          </td><td>Pejn               </td><td>Blood Elf          </td><td>Demon Hunter       </td><td>Vengeance          </td><td>225                </td><td>1810               </td><td> 46                </td><td>28                 </td><td>18                 </td><td>60.87              </td><td>2                  </td></tr>\n",
       "\t<tr><th scope=row>busko</th><td>Guilty Casual      </td><td>Busko              </td><td>Undead             </td><td>Priest             </td><td>Holy               </td><td>214                </td><td>1562               </td><td> 36                </td><td>17                 </td><td>19                 </td><td>47.22              </td><td>0                  </td></tr>\n",
       "\t<tr><th scope=row>fionah</th><td>Guilty Casual      </td><td>Fionah             </td><td>Blood Elf          </td><td>Monk               </td><td>Windwalker         </td><td>212                </td><td>1627               </td><td> 39                </td><td>22                 </td><td>17                 </td><td>56.41              </td><td>1                  </td></tr>\n",
       "\t<tr><th scope=row>heraphim</th><td>Guilty Casual      </td><td>Heraphim           </td><td>Highmountain Tauren</td><td>Druid              </td><td>Balance            </td><td>221                </td><td>1818               </td><td>131                </td><td>66                 </td><td>65                 </td><td>50.38              </td><td>2                  </td></tr>\n",
       "</tbody>\n",
       "</table>\n"
      ],
      "text/latex": [
       "\\begin{tabular}{r|llllllllllll}\n",
       "  & GuildName & Player & Race & CharacterClass & ActiveSpec & ItemLevel & RBG\\_Rating & RBG\\_Played & RBG\\_Won & RBG\\_Lost & WinRate & Score\\\\\n",
       "\\hline\n",
       "\tpeakyskengz & Guilty Casual       & Peakyskengz         & Orc                 & Hunter              & Marksmanship        & 225                 & 1618                &  79                 & 41                  & 38                  & 51.90               & 1                  \\\\\n",
       "\tamphali & Synergize           & Amphali             & Blood Elf           & Mage                & Frost               & 224                 & 1631                &  25                 & 14                  & 11                  & 56.00               & 1                  \\\\\n",
       "\tpejn & Synergize           & Pejn                & Blood Elf           & Demon Hunter        & Vengeance           & 225                 & 1810                &  46                 & 28                  & 18                  & 60.87               & 2                  \\\\\n",
       "\tbusko & Guilty Casual       & Busko               & Undead              & Priest              & Holy                & 214                 & 1562                &  36                 & 17                  & 19                  & 47.22               & 0                  \\\\\n",
       "\tfionah & Guilty Casual       & Fionah              & Blood Elf           & Monk                & Windwalker          & 212                 & 1627                &  39                 & 22                  & 17                  & 56.41               & 1                  \\\\\n",
       "\theraphim & Guilty Casual       & Heraphim            & Highmountain Tauren & Druid               & Balance             & 221                 & 1818                & 131                 & 66                  & 65                  & 50.38               & 2                  \\\\\n",
       "\\end{tabular}\n"
      ],
      "text/markdown": [
       "\n",
       "| <!--/--> | GuildName | Player | Race | CharacterClass | ActiveSpec | ItemLevel | RBG_Rating | RBG_Played | RBG_Won | RBG_Lost | WinRate | Score |\n",
       "|---|---|---|---|---|---|---|---|---|---|---|---|---|\n",
       "| peakyskengz | Guilty Casual       | Peakyskengz         | Orc                 | Hunter              | Marksmanship        | 225                 | 1618                |  79                 | 41                  | 38                  | 51.90               | 1                   |\n",
       "| amphali | Synergize           | Amphali             | Blood Elf           | Mage                | Frost               | 224                 | 1631                |  25                 | 14                  | 11                  | 56.00               | 1                   |\n",
       "| pejn | Synergize           | Pejn                | Blood Elf           | Demon Hunter        | Vengeance           | 225                 | 1810                |  46                 | 28                  | 18                  | 60.87               | 2                   |\n",
       "| busko | Guilty Casual       | Busko               | Undead              | Priest              | Holy                | 214                 | 1562                |  36                 | 17                  | 19                  | 47.22               | 0                   |\n",
       "| fionah | Guilty Casual       | Fionah              | Blood Elf           | Monk                | Windwalker          | 212                 | 1627                |  39                 | 22                  | 17                  | 56.41               | 1                   |\n",
       "| heraphim | Guilty Casual       | Heraphim            | Highmountain Tauren | Druid               | Balance             | 221                 | 1818                | 131                 | 66                  | 65                  | 50.38               | 2                   |\n",
       "\n"
      ],
      "text/plain": [
       "            GuildName     Player      Race                CharacterClass\n",
       "peakyskengz Guilty Casual Peakyskengz Orc                 Hunter        \n",
       "amphali     Synergize     Amphali     Blood Elf           Mage          \n",
       "pejn        Synergize     Pejn        Blood Elf           Demon Hunter  \n",
       "busko       Guilty Casual Busko       Undead              Priest        \n",
       "fionah      Guilty Casual Fionah      Blood Elf           Monk          \n",
       "heraphim    Guilty Casual Heraphim    Highmountain Tauren Druid         \n",
       "            ActiveSpec   ItemLevel RBG_Rating RBG_Played RBG_Won RBG_Lost\n",
       "peakyskengz Marksmanship 225       1618        79        41      38      \n",
       "amphali     Frost        224       1631        25        14      11      \n",
       "pejn        Vengeance    225       1810        46        28      18      \n",
       "busko       Holy         214       1562        36        17      19      \n",
       "fionah      Windwalker   212       1627        39        22      17      \n",
       "heraphim    Balance      221       1818       131        66      65      \n",
       "            WinRate Score\n",
       "peakyskengz 51.90   1    \n",
       "amphali     56.00   1    \n",
       "pejn        60.87   2    \n",
       "busko       47.22   0    \n",
       "fionah      56.41   1    \n",
       "heraphim    50.38   2    "
      ]
     },
     "metadata": {},
     "output_type": "display_data"
    }
   ],
   "source": [
    "access_token <- \"&access_token=USAOiJfo0ORK42eNpH5WGhu3s2lGnHa1F9\"\n",
    "\n",
    "realm <- \"kazzak\"\n",
    "\n",
    "raiders <- list('peakyskengz',\n",
    "                'amphali',\n",
    "                'pejn',\n",
    "                'busko',\n",
    "                'fionah',\n",
    "                'heraphim')\n",
    "\n",
    "rbg.stats(raiders, realm, access_token)"
   ]
  },
  {
   "cell_type": "code",
   "execution_count": null,
   "id": "macro-bernard",
   "metadata": {},
   "outputs": [],
   "source": []
  }
 ],
 "metadata": {
  "kernelspec": {
   "display_name": "R",
   "language": "R",
   "name": "ir"
  },
  "language_info": {
   "codemirror_mode": "r",
   "file_extension": ".r",
   "mimetype": "text/x-r-source",
   "name": "R",
   "pygments_lexer": "r",
   "version": "3.6.1"
  }
 },
 "nbformat": 4,
 "nbformat_minor": 5
}
